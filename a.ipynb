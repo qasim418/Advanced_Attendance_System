{
 "cells": [
  {
   "cell_type": "code",
   "execution_count": 3,
   "metadata": {},
   "outputs": [],
   "source": [
    "import sqlite3\n",
    "\n",
    "# Connect to the SQLite database\n",
    "conn = sqlite3.connect('example.db')  # Replace with your database file path\n",
    "\n",
    "# Create a cursor object to execute SQL queries\n",
    "cursor = conn.cursor()\n",
    "\n",
    "# Create a table to store data\n",
    "cursor.execute('''CREATE TABLE IF NOT EXISTS users\n",
    "                  (id INTEGER PRIMARY KEY AUTOINCREMENT,\n",
    "                   name TEXT,\n",
    "                   email TEXT)''')\n",
    "\n",
    "# Insert data into the table\n",
    "user_data = [('John Doe', 'john.doe@example.com'),\n",
    "             ('Jane Smith', 'jane.smith@example.com')]\n",
    "\n",
    "cursor.executemany('INSERT INTO users (name, email) VALUES (?, ?)', user_data)\n",
    "\n",
    "# Commit the changes to the database\n",
    "conn.commit()\n",
    "\n",
    "\n"
   ]
  },
  {
   "cell_type": "code",
   "execution_count": 4,
   "metadata": {},
   "outputs": [
    {
     "name": "stdout",
     "output_type": "stream",
     "text": [
      "ID: 1, Name: John Doe, Email: john.doe@example.com\n",
      "ID: 2, Name: Jane Smith, Email: jane.smith@example.com\n",
      "ID: 3, Name: John Doe, Email: john.doe@example.com\n",
      "ID: 4, Name: Jane Smith, Email: jane.smith@example.com\n"
     ]
    }
   ],
   "source": [
    "# Retrieve data from the table\n",
    "cursor.execute('SELECT * FROM users')\n",
    "result = cursor.fetchall()\n",
    "\n",
    "# Print the retrieved data\n",
    "for row in result:\n",
    "    print(f\"ID: {row[0]}, Name: {row[1]}, Email: {row[2]}\")\n",
    "\n",
    "# Close the cursor and the database connection\n",
    "cursor.close()\n",
    "conn.close()"
   ]
  },
  {
   "cell_type": "code",
   "execution_count": 17,
   "metadata": {},
   "outputs": [
    {
     "ename": "OperationalError",
     "evalue": "no such table: attendance_record",
     "output_type": "error",
     "traceback": [
      "\u001b[1;31m---------------------------------------------------------------------------\u001b[0m",
      "\u001b[1;31mOperationalError\u001b[0m                          Traceback (most recent call last)",
      "Cell \u001b[1;32mIn[17], line 7\u001b[0m\n\u001b[0;32m      4\u001b[0m cursor \u001b[39m=\u001b[39m conn\u001b[39m.\u001b[39mcursor()\n\u001b[0;32m      6\u001b[0m \u001b[39m# Execute a query to retrieve data from a table\u001b[39;00m\n\u001b[1;32m----> 7\u001b[0m cursor\u001b[39m.\u001b[39;49mexecute(\u001b[39m\"\u001b[39;49m\u001b[39mdrop table attendance_record;\u001b[39;49m\u001b[39m\"\u001b[39;49m)\n\u001b[0;32m      8\u001b[0m rows \u001b[39m=\u001b[39m cursor\u001b[39m.\u001b[39mfetchall()\n\u001b[0;32m     10\u001b[0m \u001b[39m# Iterate over the rows and print the data\u001b[39;00m\n",
      "\u001b[1;31mOperationalError\u001b[0m: no such table: attendance_record"
     ]
    }
   ],
   "source": [
    "import sqlite3\n",
    "\n",
    "conn = sqlite3.connect('example.db')\n",
    "cursor = conn.cursor()\n",
    "\n",
    "# Execute a query to retrieve data from a table\n",
    "cursor.execute(\"drop table attendance_record;\")\n",
    "rows = cursor.fetchall()\n",
    "\n",
    "# Iterate over the rows and print the data\n",
    "for row in rows:\n",
    "    print(row)\n",
    "\n",
    "cursor.close()\n",
    "conn.close()\n"
   ]
  },
  {
   "cell_type": "code",
   "execution_count": 3,
   "metadata": {},
   "outputs": [],
   "source": [
    "import sqlite3\n",
    "\n",
    "conn = sqlite3.connect('example.db')\n",
    "cursor = conn.cursor()\n",
    "\n",
    "# Create the \"attendance_record\" table\n",
    "cursor.execute(\"\"\"\n",
    "    CREATE TABLE if not EXISTS attendance_record (\n",
    "        id_no INTEGER,\n",
    "        time TEXT,\n",
    "        name TEXT,\n",
    "        expressions TEXT,\n",
    "        uniform_status TEXT,\n",
    "        PRIMARY KEY (id_no, time)\n",
    "    )\n",
    "\"\"\")\n",
    "\n",
    "conn.commit()\n",
    "cursor.close()\n",
    "conn.close()\n"
   ]
  },
  {
   "cell_type": "code",
   "execution_count": 4,
   "metadata": {},
   "outputs": [],
   "source": [
    "def extract_attendance_records():\n",
    "    conn = sqlite3.connect('example.db')\n",
    "    cursor = conn.cursor()\n",
    "\n",
    "    # Execute the SELECT query to retrieve all rows from the table\n",
    "    cursor.execute(\"SELECT * FROM attendance_record\")\n",
    "    rows = cursor.fetchall()\n",
    "\n",
    "    # Print or process the retrieved data\n",
    "    for row in rows:\n",
    "        print(row)  # Replace with your desired processing\n",
    "\n",
    "    cursor.close()\n",
    "    conn.close()\n"
   ]
  },
  {
   "cell_type": "code",
   "execution_count": 5,
   "metadata": {},
   "outputs": [
    {
     "name": "stdout",
     "output_type": "stream",
     "text": [
      "('emp2', '05:35:19', 'user', 'happy', 'complete')\n",
      "('emp2', '05:37:44', 'user', 'happy', 'complete')\n",
      "('emp3', '10:39:31', 'user', 'happy', 'complete')\n",
      "('random2', '10:36:45', 'user', 'fear', 'complete')\n",
      "('random2', '10:38:03', 'user', 'fear', 'complete')\n",
      "('random1', '10:38:42', 'user', 'happy', 'complete')\n",
      "('random2', '10:41:36', 'user', 'fear', 'complete')\n",
      "('emp_4', '10:42:45', 'user', 'fear', 'complete')\n"
     ]
    }
   ],
   "source": [
    "extract_attendance_records()"
   ]
  },
  {
   "cell_type": "code",
   "execution_count": 24,
   "metadata": {},
   "outputs": [
    {
     "name": "stdout",
     "output_type": "stream",
     "text": [
      "('emp2', '05:35:19', 'user', 'happy', 'complete')\n",
      "('emp2', '05:37:44', 'user', 'happy', 'complete')\n",
      "('emp3', '10:39:31', 'user', 'happy', 'complete')\n"
     ]
    },
    {
     "data": {
      "text/plain": [
       "NoneType"
      ]
     },
     "execution_count": 24,
     "metadata": {},
     "output_type": "execute_result"
    }
   ],
   "source": [
    "type(extract_attendance_records())"
   ]
  },
  {
   "cell_type": "code",
   "execution_count": 6,
   "metadata": {},
   "outputs": [
    {
     "ename": "SyntaxError",
     "evalue": "invalid syntax (1178033717.py, line 1)",
     "output_type": "error",
     "traceback": [
      "\u001b[1;36m  Cell \u001b[1;32mIn[6], line 1\u001b[1;36m\u001b[0m\n\u001b[1;33m    sqlite3 example.db\u001b[0m\n\u001b[1;37m            ^\u001b[0m\n\u001b[1;31mSyntaxError\u001b[0m\u001b[1;31m:\u001b[0m invalid syntax\n"
     ]
    }
   ],
   "source": [
    "sqlite3 example.db\n"
   ]
  },
  {
   "cell_type": "code",
   "execution_count": 3,
   "metadata": {},
   "outputs": [
    {
     "name": "stdout",
     "output_type": "stream",
     "text": [
      "sqlite_sequence\n",
      "attendance_record\n",
      "students_record\n"
     ]
    }
   ],
   "source": [
    "import sqlite3\n",
    "# Replace 'your_database.db' with the path to your SQLite database file\n",
    "conn = sqlite3.connect('example.db')\n",
    "cursor = conn.cursor()\n",
    "# Retrieve the list of tables in the database\n",
    "cursor.execute(\"SELECT name FROM sqlite_master WHERE type='table';\")\n",
    "tables = cursor.fetchall()\n",
    "# Print the list of tables\n",
    "for table in tables:\n",
    "    print(table[0])\n",
    "conn.close()"
   ]
  },
  {
   "cell_type": "code",
   "execution_count": 12,
   "metadata": {},
   "outputs": [],
   "source": [
    "import sqlite3\n",
    "\n",
    "# Connect to the SQLite database\n",
    "conn = sqlite3.connect('example.db')\n",
    "cursor = conn.cursor()\n",
    "\n",
    "# Create the students_record table\n",
    "cursor.execute('''\n",
    "    CREATE TABLE students_record (\n",
    "        img TEXT,\n",
    "        emp_id INTEGER PRIMARY KEY,\n",
    "        name TEXT,\n",
    "        class TEXT,\n",
    "        contact_info TEXT,\n",
    "        address TEXT\n",
    "    )\n",
    "''')\n",
    "\n",
    "# Commit the changes and close the connection\n",
    "conn.commit()\n",
    "conn.close()\n"
   ]
  },
  {
   "cell_type": "code",
   "execution_count": 1,
   "metadata": {},
   "outputs": [],
   "source": [
    "import sqlite3\n",
    "\n",
    "conn = sqlite3.connect('example.db')\n",
    "cursor = conn.cursor()\n",
    "\n",
    "# Execute a query to retrieve data from a table\n",
    "cursor.execute(\"drop table students_record;\")\n",
    "rows = cursor.fetchall()\n",
    "\n",
    "# Iterate over the rows and print the data\n",
    "for row in rows:\n",
    "    print(row)\n",
    "\n",
    "cursor.close()\n",
    "conn.close()\n"
   ]
  },
  {
   "cell_type": "code",
   "execution_count": 2,
   "metadata": {},
   "outputs": [],
   "source": [
    "import sqlite3\n",
    "\n",
    "# Connect to the SQLite database\n",
    "conn = sqlite3.connect('example.db')\n",
    "cursor = conn.cursor()\n",
    "\n",
    "# Create the students_record table\n",
    "cursor.execute('''\n",
    "    CREATE TABLE students_record (\n",
    "        img TEXT,\n",
    "        emp_id Text PRIMARY KEY,\n",
    "        name TEXT,\n",
    "        class TEXT,\n",
    "        contact_info TEXT,\n",
    "        address TEXT\n",
    "    )\n",
    "''')\n",
    "\n",
    "# Insert the dummy data\n",
    "students_data = [\n",
    "    ('employees/emp1.jpeg', 'emp1' , 'John Doe', '10th Grade', 'john.doe@example.com', '123 Main Street'),\n",
    "    ('employees/emp2.jpeg', 'emp2' , 'Jane Smith', '9th Grade', 'jane.smith@example.com', '456 Elm Street'),\n",
    "    ('employees/emp3.jpeg', 'emp3', 'Michael Johnson', '11th Grade', 'michael.johnson@example.com', '789 Oak Avenue'),\n",
    "    ('employees/emp4.png', 'emp4', 'Emily Davis', '12th Grade', 'emily.davis@example.com', '321 Pine Road'),\n",
    "    ('employees/emp5.jpg', 'emp5', 'David Wilson', '10th Grade', 'david.wilson@example.com', '654 Maple Lane')\n",
    "]\n",
    "\n",
    "cursor.executemany('''\n",
    "    INSERT INTO students_record (img, emp_id, name, class, contact_info, address)\n",
    "    VALUES (?, ?, ?, ?, ?, ?)\n",
    "''', students_data)\n",
    "\n",
    "# Commit the changes and close the connection\n",
    "conn.commit()\n",
    "conn.close()\n"
   ]
  },
  {
   "cell_type": "code",
   "execution_count": null,
   "metadata": {},
   "outputs": [],
   "source": []
  }
 ],
 "metadata": {
  "kernelspec": {
   "display_name": "Python 3",
   "language": "python",
   "name": "python3"
  },
  "language_info": {
   "codemirror_mode": {
    "name": "ipython",
    "version": 3
   },
   "file_extension": ".py",
   "mimetype": "text/x-python",
   "name": "python",
   "nbconvert_exporter": "python",
   "pygments_lexer": "ipython3",
   "version": "3.11.3"
  },
  "orig_nbformat": 4
 },
 "nbformat": 4,
 "nbformat_minor": 2
}
